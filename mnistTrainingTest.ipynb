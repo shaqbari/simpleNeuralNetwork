{
 "cells": [
  {
   "cell_type": "code",
   "execution_count": 42,
   "metadata": {
    "collapsed": true
   },
   "outputs": [],
   "source": [
    "import numpy as np\n",
    "import matplotlib.pyplot as py\n",
    "import scipy.special\n",
    "%matplotlib inline"
   ]
  },
  {
   "cell_type": "code",
   "execution_count": 43,
   "metadata": {
    "collapsed": true
   },
   "outputs": [],
   "source": [
    "# 신경망은 적어도 다음 세가지 기능을 가져야 한다.\n",
    "# 초기화: 입력, 은닉, 출력 노드의 수, 학습률, 가중치 행렬, 활성화함수 설정\n",
    "# 학습: 학습 데이터들을 학습학 이에 따라 가중치를 업데이트\n",
    "# 질의: 입력을 받아 연산한 후 출력 노드에서 답을 전달\n",
    "\n",
    "class NeuralNetwork:\n",
    "    def __init__(self, inputNodes, hiddenNodes, outputNodes, learningRate):\n",
    "        self.inputNodes=inputNodes\n",
    "        self.hiddenNodes=hiddenNodes\n",
    "        self.outputNodes=outputNodes\n",
    "        \n",
    "        self.learningRate=learningRate\n",
    "        \n",
    "        #가중치 범위는 -1~1사이가 되어야 하며\n",
    "        #가중치는 0을 중심으로 하며 1/root(들어오는 연결노드의 개수)의 표준편차를 가지는 정규분포를 이용해 초기화 한다.\n",
    "        self.wih=np.random.normal(loc=0.0, scale=pow(self.hiddenNodes, -0.5), size=(self.hiddenNodes, self.inputNodes))\n",
    "        self.who=np.random.normal(loc=0.0, scale=pow(self.outputNodes, -0.5), size=(self.outputNodes, self.hiddenNodes))\n",
    "        \n",
    "        #활성화 함수로 sigmoid함수 사용\n",
    "        self.activationFunction = lambda x:scipy.special.expit(x)\n",
    "        \n",
    "        pass\n",
    "    \n",
    "    # 학습의 단계\n",
    "    # 1.출력값 계산(query함수와 유사)\n",
    "    # 2.가중치가 어떻게 업데이트 되어야 하는지 알려주기 위해 오차를 역전파하는 단계\n",
    "    def train(self, inputList, targetList):\n",
    "        inputs=np.array(inputList, ndmin=2).T\n",
    "        targets=np.array(targetList, ndmin=2).T\n",
    "\n",
    "        hiddenInputs=np.dot(self.wih, inputs)\n",
    "        hiddenOutputs=self.activationFunction(hiddenInputs)\n",
    "        \n",
    "        finalInputs=np.dot(self.who, hiddenOutputs)\n",
    "        finalOutputs=self.activationFunction(finalInputs)\n",
    "        \n",
    "        \n",
    "        # 오차는 실제값-계산값\n",
    "        # ERROR hidden = WT hidden_output*ERROR output\n",
    "        outputErrors=targets-finalOutputs   \n",
    "        hiddenErrors=np.dot(self.who.T, outputErrors)\n",
    "        \n",
    "        # 은닉계층과 출력계층간의 가중치 업데이트\n",
    "        # sigmoid(x) 미분하면 sigmoid(x)*(1-sigmoid(x))\n",
    "        self.who+=self.learningRate*np.dot((outputErrors*finalOutputs*(1.0-finalOutputs)), np.transpose(hiddenOutputs))\n",
    "        \n",
    "        # 입력계층과 은닉계층간의 가중치 업데이트\n",
    "        self.wih+=self.learningRate*np.dot((hiddenErrors*hiddenOutputs*(1.0-hiddenOutputs)), np.transpose(inputs))\n",
    "\n",
    "        pass\n",
    "    \n",
    "    def query(self, inputList):\n",
    "        #입력 리스트를 2차원 행렬로 변환\n",
    "        inputs=np.array(inputList, ndmin=2).T\n",
    "        \n",
    "        # X hidden = W input_hidden * I\n",
    "        # O hidden = sigmoid(X hidden)\n",
    "        hiddenInputs=np.dot(self.wih, inputs)\n",
    "        hiddenOutputs=self.activationFunction(hiddenInputs)\n",
    "        \n",
    "        finalInputs=np.dot(self.who, hiddenOutputs)\n",
    "        finalOutputs=self.activationFunction(finalInputs)\n",
    "        \n",
    "        return finalOutputs"
   ]
  },
  {
   "cell_type": "code",
   "execution_count": 44,
   "metadata": {
    "collapsed": true
   },
   "outputs": [],
   "source": [
    "#입력, 은닉, 출력 노드의 수\n",
    "inputNodes=28*28\n",
    "# 은닉노드는 입력노드의 수보다는 작은 값을 선택함으로써 신경망이 주요 특징을 찾아냄\n",
    "# 은닉노드수를 몇개로 해야 할지 결정하는 완벽한 방법론은 없다.\n",
    "#최적의 설정을 찾을때까지 실험을 반복해야 한다.\n",
    "hiddenNodes=150\n",
    "outputNodes=10\n",
    "\n",
    "learningRate=0.3\n",
    "\n",
    "n=NeuralNetwork(inputNodes, hiddenNodes, outputNodes, learningRate)"
   ]
  },
  {
   "cell_type": "code",
   "execution_count": 45,
   "metadata": {
    "collapsed": true
   },
   "outputs": [],
   "source": [
    "#학습데이터를 리스트로 불러오기\n",
    "trainingDataFile=open(\"data/mnistTraining.csv\", \"r\")\n",
    "trainingDataList=trainingDataFile.readlines()\n",
    "trainingDataFile.close()"
   ]
  },
  {
   "cell_type": "code",
   "execution_count": 46,
   "metadata": {},
   "outputs": [],
   "source": [
    "#학습 데이터 모음 내의 모든 레코드 탐색\n",
    "for record in trainingDataList:\n",
    "    allValues=record.split(',')\n",
    "    inputs =np.asfarray(allValues[1:])/255.0*0.99+0.01\n",
    "    targets=np.zeros(outputNodes)+0.01\n",
    "    \n",
    "    # int(allValues[0])는 이 레코드에 대한 결과 값\n",
    "    targets[int(allValues[0])]=0.99\n",
    "    n.train(inputs, targets)\n",
    "    pass\n",
    "\n"
   ]
  },
  {
   "cell_type": "code",
   "execution_count": 47,
   "metadata": {},
   "outputs": [],
   "source": [
    "testDataFile=open(\"data/mnistTest.csv\", 'r')\n",
    "testDataList=testDataFile.readlines()\n",
    "testDataFile.close()"
   ]
  },
  {
   "cell_type": "code",
   "execution_count": 48,
   "metadata": {},
   "outputs": [
    {
     "data": {
      "text/plain": [
       "'7'"
      ]
     },
     "execution_count": 48,
     "metadata": {},
     "output_type": "execute_result"
    }
   ],
   "source": [
    "allValues=testDataList[0].split(',')\n",
    "allValues[0]"
   ]
  },
  {
   "cell_type": "code",
   "execution_count": 49,
   "metadata": {},
   "outputs": [
    {
     "data": {
      "text/plain": [
       "<matplotlib.image.AxesImage at 0x276c2d79240>"
      ]
     },
     "execution_count": 49,
     "metadata": {},
     "output_type": "execute_result"
    },
    {
     "data": {
      "image/png": "[encoded data removed]",
      "text/plain": [
       "<matplotlib.figure.Figure at 0x276c280cf60>"
      ]
     },
     "metadata": {},
     "output_type": "display_data"
    }
   ],
   "source": [
    "imageArray=np.asfarray(allValues[1:]).reshape(28,28)\n",
    "py.imshow(imageArray, cmap=\"Greys\", interpolation='None')"
   ]
  },
  {
   "cell_type": "code",
   "execution_count": 50,
   "metadata": {},
   "outputs": [
    {
     "data": {
      "text/plain": [
       "array([[ 0.03604278],\n",
       "       [ 0.00724451],\n",
       "       [ 0.00854551],\n",
       "       [ 0.03388031],\n",
       "       [ 0.01767656],\n",
       "       [ 0.01275198],\n",
       "       [ 0.00362023],\n",
       "       [ 0.93673596],\n",
       "       [ 0.02750602],\n",
       "       [ 0.00834103]])"
      ]
     },
     "execution_count": 50,
     "metadata": {},
     "output_type": "execute_result"
    }
   ],
   "source": [
    "n.query((np.asfarray(allValues[1:])/255.0*0.99)+0.01)"
   ]
  },
  {
   "cell_type": "code",
   "execution_count": 51,
   "metadata": {},
   "outputs": [
    {
     "name": "stdout",
     "output_type": "stream",
     "text": [
      "7 correctLabel\n",
      "7 network's answer\n",
      "2 correctLabel\n",
      "6 network's answer\n",
      "1 correctLabel\n",
      "1 network's answer\n",
      "0 correctLabel\n",
      "0 network's answer\n",
      "4 correctLabel\n",
      "4 network's answer\n",
      "1 correctLabel\n",
      "1 network's answer\n",
      "4 correctLabel\n",
      "7 network's answer\n",
      "9 correctLabel\n",
      "3 network's answer\n",
      "5 correctLabel\n",
      "4 network's answer\n",
      "9 correctLabel\n",
      "7 network's answer\n"
     ]
    }
   ],
   "source": [
    "# 신경망 테스트\n",
    "scoreCard=[]\n",
    "\n",
    "for record in testDataList:\n",
    "    allValues=record.split(',')\n",
    "    correctLabel=int(allValues[0])\n",
    "    print(correctLabel, \"correctLabel\")\n",
    "    \n",
    "    #입력값의 범위와 값 조정\n",
    "    inputs=(np.asfarray(allValues[1:])/255.0*0.99)+0.01\n",
    "    outputs=n.query(inputs)\n",
    "    label=np.argmax(outputs)\n",
    "    print(label, \"network's answer\")\n",
    "    \n",
    "    #정답 또는 오답을 리스트에 추가\n",
    "    if(label==correctLabel):\n",
    "        #정답인 경우 성적표에 1을 더함\n",
    "        scoreCard.append(1)\n",
    "    else:\n",
    "        #정답이 아닌 경우 성적표에 0을 더함\n",
    "        scoreCard.append(0)\n",
    "        pass\n",
    "    pass\n",
    "        "
   ]
  },
  {
   "cell_type": "code",
   "execution_count": 52,
   "metadata": {},
   "outputs": [
    {
     "name": "stdout",
     "output_type": "stream",
     "text": [
      "performance= 0.5\n"
     ]
    }
   ],
   "source": [
    "scoreCardArr=np.asarray(scoreCard)\n",
    "print(\"performance=\", scoreCardArr.sum()/scoreCardArr.size)"
   ]
  },
  {
   "cell_type": "code",
   "execution_count": 53,
   "metadata": {},
   "outputs": [
    {
     "data": {
      "text/plain": [
       "[1, 0, 1, 1, 1, 1, 0, 0, 0, 0]"
      ]
     },
     "execution_count": 53,
     "metadata": {},
     "output_type": "execute_result"
    }
   ],
   "source": [
    "scoreCard"
   ]
  },
  {
   "cell_type": "code",
   "execution_count": null,
   "metadata": {
    "collapsed": true
   },
   "outputs": [],
   "source": []
  }
 ],
 "metadata": {
  "kernelspec": {
   "display_name": "Python 3",
   "language": "python",
   "name": "python3"
  },
  "language_info": {
   "codemirror_mode": {
    "name": "ipython",
    "version": 3
   },
   "file_extension": ".py",
   "mimetype": "text/x-python",
   "name": "python",
   "nbconvert_exporter": "python",
   "pygments_lexer": "ipython3",
   "version": "3.6.3"
  }
 },
 "nbformat": 4,
 "nbformat_minor": 2
}
