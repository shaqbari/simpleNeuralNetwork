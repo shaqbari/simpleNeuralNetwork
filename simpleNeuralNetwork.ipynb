{
 "cells": [
  {
   "cell_type": "code",
   "execution_count": 3,
   "metadata": {
    "collapsed": true
   },
   "outputs": [],
   "source": [
    "import numpy as np\n",
    "import matplotlib.pyplot as py\n",
    "import scipy.special"
   ]
  },
  {
   "cell_type": "code",
   "execution_count": 4,
   "metadata": {
    "collapsed": true
   },
   "outputs": [],
   "source": [
    "%matplotlib inline"
   ]
  },
  {
   "cell_type": "code",
   "execution_count": 5,
   "metadata": {
    "collapsed": true
   },
   "outputs": [],
   "source": [
    "# 신경망은 적어도 다음 세가지 기능을 가져야 한다.\n",
    "# 초기화: 입력, 은닉, 출력 노드의 수, 학습률, 가중치 행렬, 활성화함수 설정\n",
    "# 학습: 학습 데이터들을 학습학 이에 따라 가중치를 업데이트\n",
    "# 질의: 입력을 받아 연산한 후 출력 노드에서 답을 전달\n",
    "\n",
    "class NeuralNetwork:\n",
    "    def __init__(self, inputNodes, hiddenNodes, outputNodes, learningRate):\n",
    "        self.inputNodes=inputNodes\n",
    "        self.hiddenNodes=hiddenNodes\n",
    "        self.outputNodes=outputNodes\n",
    "        \n",
    "        self.learningRate=learningRate\n",
    "        \n",
    "        #가중치 범위는 -1~1사이가 되어야 하며\n",
    "        #가중치는 0을 중심으로 하며 1/root(들어오는 연결노드의 개수)의 표준편차를 가지는 정규분포를 이용해 초기화 한다.\n",
    "        self.wih=np.random.normal(loc=0.0, scale=pow(self.hiddenNodes, -0.5), size=(self.hiddenNodes, self.inputNodes))\n",
    "        self.who=np.random.normal(loc=0.0, scale=pow(self.outputNodes, -0.5), size=(self.outputNodes, self.hiddenNodes))\n",
    "        \n",
    "        #활성화 함수로 sigmoid함수 사용\n",
    "        self.activationFunction = lambda x:scipy.special.expit(x)\n",
    "        \n",
    "        pass\n",
    "    \n",
    "    # 학습의 단계\n",
    "    # 1.출력값 계산(query함수와 유사)\n",
    "    # 2.가중치가 어떻게 업데이트 되어야 하는지 알려주기 위해 오차를 역전파하는 단계\n",
    "    def train(self, inputList, targetList):\n",
    "        inputs=np.array(inputList, ndmin=2).T\n",
    "        targets=np.array(targetList, ndmin=2).T\n",
    "\n",
    "        hiddenInputs=np.dot(self.wih, inputs)\n",
    "        hiddenOutputs=self.activationFunction(hiddenInputs)\n",
    "        \n",
    "        finalInputs=np.dot(self.who, hiddenOutputs)\n",
    "        finalOutputs=self.activationFunction(finalInputs)\n",
    "        \n",
    "        \n",
    "        # 오차는 실제값-계산값\n",
    "        # ERROR hidden = WT hidden_output*ERROR output\n",
    "        outputErrors=targets-finalOutputs   \n",
    "        hiddenErrors=np.dot(self.who.T, outputErrors)\n",
    "        \n",
    "        # 은닉계층과 출력계층간의 가중치 업데이트\n",
    "        # sigmoid(x) 미분하면 sigmoid(x)*(1-sigmoid(x))\n",
    "        self.who+=self.learningRate*np.dot((outputErrors*finalOutputs*(1.0-finalOutputs)), np.transpose(hiddenOutputs))\n",
    "        \n",
    "        # 입력계층과 은닉계층간의 가중치 업데이트\n",
    "        self.wih+=self.learningRate*np.dot((hiddenErrors*hiddenOutputs*(1.0-hiddenOutputs)), np.transpose(inputs))\n",
    "\n",
    "        pass\n",
    "    \n",
    "    def query(self, inputList):\n",
    "        #입력 리스트를 2차원 행렬로 변환\n",
    "        inputs=np.array(inputList, ndmin=2).T\n",
    "        \n",
    "        # X hidden = W input_hidden * I\n",
    "        # O hidden = sigmoid(X hidden)\n",
    "        hiddenInputs=np.dot(self.wih, inputs)\n",
    "        hiddenOutputs=self.activationFunction(hiddenInputs)\n",
    "        \n",
    "        finalInputs=np.dot(self.who, hiddenOutputs)\n",
    "        finalOutputs=self.activationFunction(finalInputs)\n",
    "        \n",
    "        return finalOutputs"
   ]
  },
  {
   "cell_type": "code",
   "execution_count": 14,
   "metadata": {},
   "outputs": [
    {
     "data": {
      "text/plain": [
       "array([[ 0.43001901],\n",
       "       [ 0.63240478],\n",
       "       [ 0.59414059]])"
      ]
     },
     "execution_count": 14,
     "metadata": {},
     "output_type": "execute_result"
    }
   ],
   "source": [
    "inputNodes=3\n",
    "hiddenNodes=3\n",
    "outputNodes=3\n",
    "learningRate=0.1\n",
    "\n",
    "n=NeuralNetwork(inputNodes, hiddenNodes, outputNodes, learningRate)\n",
    "n.train([1.0, -2.0, 3.0], [2.0, -3.5, 6.4])\n",
    "n.query([1.0, 0.5, -1.5])"
   ]
  },
  {
   "cell_type": "code",
   "execution_count": 27,
   "metadata": {
    "collapsed": true
   },
   "outputs": [],
   "source": [
    "#test=np.array([(2,3),(2,4),(3,4)], ndmin=2).T\n",
    "#test\n"
   ]
  },
  {
   "cell_type": "code",
   "execution_count": null,
   "metadata": {
    "collapsed": true
   },
   "outputs": [],
   "source": []
  }
 ],
 "metadata": {
  "kernelspec": {
   "display_name": "Python 3",
   "language": "python",
   "name": "python3"
  },
  "language_info": {
   "codemirror_mode": {
    "name": "ipython",
    "version": 3
   },
   "file_extension": ".py",
   "mimetype": "text/x-python",
   "name": "python",
   "nbconvert_exporter": "python",
   "pygments_lexer": "ipython3",
   "version": "3.6.3"
  }
 },
 "nbformat": 4,
 "nbformat_minor": 2
}
